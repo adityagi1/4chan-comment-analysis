{
 "cells": [
  {
   "cell_type": "markdown",
   "metadata": {},
   "source": [
    "# SpectrumLabs Data Science Interview Project - Aditya Tyagi\n",
    "\n",
    "## Objective: Predict 4chan comment board membership\n",
    "## Dataset: Obtained via 4chan API\n",
    "\n",
    "## Organization:\n",
    "- ### STEP 1: Extraction Cleaning\n",
    "- ### STEP 2: Exploratory Analysis\n",
    "- ### STEP 3: Disciminative Analysis\n",
    "- ### STEP 4: Modelling\n",
    "\n"
   ]
  },
  {
   "cell_type": "markdown",
   "metadata": {},
   "source": [
    "### We begin by importing necessary libraries."
   ]
  },
  {
   "cell_type": "code",
   "execution_count": 447,
   "metadata": {},
   "outputs": [
    {
     "name": "stderr",
     "output_type": "stream",
     "text": [
      "[nltk_data] Downloading package punkt to C:\\Users\\Aditya\n",
      "[nltk_data]     Tyagi\\AppData\\Roaming\\nltk_data...\n",
      "[nltk_data]   Package punkt is already up-to-date!\n",
      "[nltk_data] Downloading package stopwords to C:\\Users\\Aditya\n",
      "[nltk_data]     Tyagi\\AppData\\Roaming\\nltk_data...\n",
      "[nltk_data]   Package stopwords is already up-to-date!\n",
      "[nltk_data] Downloading package wordnet to C:\\Users\\Aditya\n",
      "[nltk_data]     Tyagi\\AppData\\Roaming\\nltk_data...\n",
      "[nltk_data]   Package wordnet is already up-to-date!\n"
     ]
    },
    {
     "data": {
      "text/plain": [
       "True"
      ]
     },
     "execution_count": 447,
     "metadata": {},
     "output_type": "execute_result"
    }
   ],
   "source": [
    "import pandas as pd\n",
    "import sklearn\n",
    "import numpy as np\n",
    "import requests\n",
    "import nltk\n",
    "from nltk.corpus import stopwords\n",
    "from nltk.stem import WordNetLemmatizer\n",
    "from nltk.tokenize import word_tokenize\n",
    "from nltk.probability import FreqDist\n",
    "import re\n",
    "import seaborn as sns\n",
    "import matplotlib.pyplot as plt\n",
    "from nltk.tokenize.treebank import TreebankWordDetokenizer\n",
    "from sklearn.feature_extraction.text import CountVectorizer\n",
    "from sklearn.feature_extraction.text import TfidfVectorizer\n",
    "\n",
    "from sklearn.ensemble import RandomForestClassifier\n",
    "\n",
    "nltk.download('punkt')\n",
    "nltk.download('stopwords')\n",
    "nltk.download('wordnet')"
   ]
  },
  {
   "cell_type": "markdown",
   "metadata": {},
   "source": [
    "## The boards we will be analyzing are 'g', 'tv', 'ck', 'lit'. \n",
    "- g = \"technology\"\n",
    "- tv = \"tv/media\"\n",
    "- ck = \"cooking\"\n",
    "- lit = \"literature:\n"
   ]
  },
  {
   "cell_type": "code",
   "execution_count": 448,
   "metadata": {},
   "outputs": [],
   "source": [
    "#list of boards\n",
    "BOARDS = ['g', 'tv', 'ck', 'lit']\n",
    "#how many threads to extract\n",
    "\n",
    "\n",
    "API_ENDPOINT = \"https://a.4cdn.org\"\n"
   ]
  },
  {
   "cell_type": "markdown",
   "metadata": {},
   "source": [
    "## STEP 1: Extraction/Cleaning \n",
    "## We define a few functions to acquire data from API.\n",
    "\n",
    "get_threads() gets all the threads for a particular board.\n",
    "\n",
    "\n",
    "get_comments() gets all the comments for a particular thread in a particular board."
   ]
  },
  {
   "cell_type": "code",
   "execution_count": 449,
   "metadata": {},
   "outputs": [],
   "source": [
    "#gets n pages worth of threads for board\n",
    "def get_threads(board, n = 1):\n",
    "    target = API_ENDPOINT + \"/\" + board.strip() + \"/\" + \"threads.json\"\n",
    "    api_res = requests.get(target).json()\n",
    "    curr_page = 0\n",
    "    thread_list = []\n",
    "    while (curr_page < n):\n",
    "        [thread_list.append(thread) for thread in api_res[curr_page]['threads']]\n",
    "        curr_page = curr_page + 1\n",
    "    for thread in thread_list:\n",
    "        thread['board'] = board\n",
    "    \n",
    "    return thread_list\n",
    "\n",
    "#gets all the comments for a given board, threadID (incl. the root thread)\n",
    "def get_comments(board, thread_id):\n",
    "    target = API_ENDPOINT + \"/\" + board.strip() + \"/\" + \"thread/\" + str(thread_id) + \".json\"\n",
    "    try:\n",
    "        api_res = requests.get(target)\n",
    "    except:\n",
    "        print(\"Error in contacting API endpoint! Either board or thread_id is bad!\")\n",
    "        return\n",
    "    comments = api_res.json()['posts']\n",
    "    comment_list = []\n",
    "    for comment in comments:\n",
    "        if 'com' in comment.keys():\n",
    "            comment_id = comment['no']\n",
    "            com = comment['com']\n",
    "            time = comment['now']\n",
    "            comment_obj = {\"board\": board, 'comment_id': comment_id, 'time': time, \"content\":com}\n",
    "            comment_list.append(comment_obj)\n",
    "    return comment_list\n"
   ]
  },
  {
   "cell_type": "markdown",
   "metadata": {},
   "source": [
    "## We now ingest the data as a dataframe.\n",
    "\n",
    "### Each row represents a comment. And the following columns are included:\n",
    "- thread_id: the thread id of the thread that the comment is part of\n",
    "- comment_id: the comment's id\n",
    "- board: the board that the comment is part of\n",
    "- time: the time of the comment\n",
    "- content: the actual text of the comment\n"
   ]
  },
  {
   "cell_type": "code",
   "execution_count": 450,
   "metadata": {},
   "outputs": [],
   "source": [
    "def create_dataframe():\n",
    "    comments = []\n",
    "    threads = []\n",
    "    for board in BOARDS:\n",
    "        for thread in get_threads(board):\n",
    "            thread_id = thread['no']\n",
    "            thread_comments = get_comments(board, thread_id)\n",
    "            for comment in thread_comments:\n",
    "                comments.append(comment)\n",
    "                threads.append(thread)\n",
    "    thread_ids = [thr['no'] for thr in threads]\n",
    "    thread_boards = [thr['board'] for thr in threads]\n",
    "    comment_ids = [comm['comment_id'] for comm in comments]\n",
    "    boards = [comm['board'] for comm in comments]\n",
    "    times = [comm['time'] for comm in comments]\n",
    "    contents = [comm['content'] for comm in comments]\n",
    "    df_dict = {'thread_id': thread_ids, 'comment_id': comment_ids, \n",
    "               'board': boards, 'time': times, 'content': contents}\n",
    "    return pd.DataFrame.from_dict(df_dict)"
   ]
  },
  {
   "cell_type": "markdown",
   "metadata": {},
   "source": [
    "Optionally, we can also persist the data to our local filesystem in the form of a .csv"
   ]
  },
  {
   "cell_type": "code",
   "execution_count": 451,
   "metadata": {},
   "outputs": [],
   "source": [
    "dataset = create_dataframe()\n",
    "dataset.to_csv('comments.csv',index = False)"
   ]
  },
  {
   "cell_type": "markdown",
   "metadata": {},
   "source": [
    "### We can now read the data that we persisted as a pandas dataframe.  To ensure smooth running, I am using static comments data. To use the latest data that we just persisted above, replace 'comments-old.csv' in the below cell with 'comments.csv'."
   ]
  },
  {
   "cell_type": "code",
   "execution_count": 435,
   "metadata": {},
   "outputs": [
    {
     "data": {
      "text/html": [
       "<div>\n",
       "<style scoped>\n",
       "    .dataframe tbody tr th:only-of-type {\n",
       "        vertical-align: middle;\n",
       "    }\n",
       "\n",
       "    .dataframe tbody tr th {\n",
       "        vertical-align: top;\n",
       "    }\n",
       "\n",
       "    .dataframe thead th {\n",
       "        text-align: right;\n",
       "    }\n",
       "</style>\n",
       "<table border=\"1\" class=\"dataframe\">\n",
       "  <thead>\n",
       "    <tr style=\"text-align: right;\">\n",
       "      <th></th>\n",
       "      <th>thread_id</th>\n",
       "      <th>comment_id</th>\n",
       "      <th>board</th>\n",
       "      <th>time</th>\n",
       "      <th>content</th>\n",
       "    </tr>\n",
       "  </thead>\n",
       "  <tbody>\n",
       "    <tr>\n",
       "      <th>0</th>\n",
       "      <td>51971506</td>\n",
       "      <td>51971506</td>\n",
       "      <td>g</td>\n",
       "      <td>12/20/15(Sun)20:03:52</td>\n",
       "      <td>The /g/ Wiki:&lt;br&gt;&lt;a href=\"http://wiki.installg...</td>\n",
       "    </tr>\n",
       "    <tr>\n",
       "      <th>1</th>\n",
       "      <td>75841871</td>\n",
       "      <td>75841871</td>\n",
       "      <td>g</td>\n",
       "      <td>05/10/20(Sun)11:15:55</td>\n",
       "      <td>are these unironically our/g/uys? &lt;br&gt;post ur ...</td>\n",
       "    </tr>\n",
       "    <tr>\n",
       "      <th>2</th>\n",
       "      <td>75841871</td>\n",
       "      <td>75841887</td>\n",
       "      <td>g</td>\n",
       "      <td>05/10/20(Sun)11:17:29</td>\n",
       "      <td>/ourguys/&lt;br&gt;XYZpilled&lt;br&gt;youtubers&lt;br&gt;&lt;br&gt;are...</td>\n",
       "    </tr>\n",
       "    <tr>\n",
       "      <th>3</th>\n",
       "      <td>75837108</td>\n",
       "      <td>75837108</td>\n",
       "      <td>g</td>\n",
       "      <td>05/10/20(Sun)02:35:44</td>\n",
       "      <td>Welcome to the Daily Programming Thread: Small...</td>\n",
       "    </tr>\n",
       "    <tr>\n",
       "      <th>4</th>\n",
       "      <td>75837108</td>\n",
       "      <td>75837130</td>\n",
       "      <td>g</td>\n",
       "      <td>05/10/20(Sun)02:37:45</td>\n",
       "      <td>Can I compile Java14 to run on JVM8 ?</td>\n",
       "    </tr>\n",
       "  </tbody>\n",
       "</table>\n",
       "</div>"
      ],
      "text/plain": [
       "   thread_id  comment_id board                   time  \\\n",
       "0   51971506    51971506     g  12/20/15(Sun)20:03:52   \n",
       "1   75841871    75841871     g  05/10/20(Sun)11:15:55   \n",
       "2   75841871    75841887     g  05/10/20(Sun)11:17:29   \n",
       "3   75837108    75837108     g  05/10/20(Sun)02:35:44   \n",
       "4   75837108    75837130     g  05/10/20(Sun)02:37:45   \n",
       "\n",
       "                                             content  \n",
       "0  The /g/ Wiki:<br><a href=\"http://wiki.installg...  \n",
       "1  are these unironically our/g/uys? <br>post ur ...  \n",
       "2  /ourguys/<br>XYZpilled<br>youtubers<br><br>are...  \n",
       "3  Welcome to the Daily Programming Thread: Small...  \n",
       "4              Can I compile Java14 to run on JVM8 ?  "
      ]
     },
     "execution_count": 435,
     "metadata": {},
     "output_type": "execute_result"
    }
   ],
   "source": [
    "dataset = pd.read_csv('comments-old.csv')\n",
    "dataset.head()"
   ]
  },
  {
   "cell_type": "markdown",
   "metadata": {},
   "source": [
    "## STEP 2: Exporatory Analysis\n",
    "\n",
    "### We obtain the following insights:\n",
    "- comments per thread for each board\n",
    "- common words for each board\n",
    "- visualization of the distribution of replies per thread for each of board\n",
    "- center, spread statistics for replies per thread for each board\n"
   ]
  },
  {
   "cell_type": "markdown",
   "metadata": {},
   "source": [
    "But first we have to clean up the comment content. We do the following:\n",
    "- remove HTML tags, punctuation\n",
    "- remove numbers\n",
    "- remove whitespace\n",
    "- tokenize the comment\n",
    "- remove stop words (stop words are overly common and add little discriminative value) (e.g. a, the, as, etc.)\n",
    "- lemmatize the remaining words (lemmatization maps each word to its root, so running, ran, runs, etc. get mapped to run)\n",
    "\n"
   ]
  },
  {
   "cell_type": "code",
   "execution_count": 436,
   "metadata": {},
   "outputs": [
    {
     "name": "stdout",
     "output_type": "stream",
     "text": [
      "['hello', 'world', 'name', 'adi', 'favorite', 'number', 'cool', 'link', 'click']\n",
      "hello world name adi favorite number cool link click\n"
     ]
    }
   ],
   "source": [
    "#returns preprocessed text as list of tokens \n",
    "def preprocess_string_nltk(s):\n",
    "    #remove punctutation, spaces, numbers, html tags, etc.\n",
    "    clean_s =  re.sub(\"<.*?>\", \"\", s)\n",
    "    clean_s = re.sub(r\"[^\\w\\s]\", \"\",clean_s)\n",
    "    clean_s = re.sub(r'\\d+','',clean_s)\n",
    "    #lower case\n",
    "    clean_s = clean_s.lower()\n",
    "    #tokenize\n",
    "    tokens = word_tokenize(clean_s)\n",
    "    #remove stop words\n",
    "    stop_words = stopwords.words('english')\n",
    "    \n",
    "    \n",
    "    stop_removed = [w for w in tokens if w not in stop_words]\n",
    "    #lemmatize the words\n",
    "    lemmatizer = WordNetLemmatizer()\n",
    "    lemmatized = [lemmatizer.lemmatize(w) for w in stop_removed]\n",
    "    #return as a list\n",
    "    return lemmatized\n",
    "\n",
    "#returns preprocessed text as string\n",
    "def preprocess_string_string(s):\n",
    "    clean_s =  re.sub(\"<.*?>\", \"\", s)\n",
    "    clean_s = re.sub(r\"[^\\w\\s]\", \"\",clean_s)\n",
    "    clean_s = re.sub(r'\\d+','',clean_s)\n",
    "    #lower case\n",
    "    clean_s = clean_s.lower()\n",
    "    #tokenize\n",
    "    tokens = word_tokenize(clean_s)\n",
    "    \n",
    "    #remove stop words\n",
    "    stop_words = stopwords.words('english')\n",
    "    stop_removed = [w for w in tokens if w not in stop_words]\n",
    "    #lemmatize the words\n",
    "    lemmatizer = WordNetLemmatizer()\n",
    "    lemmatized = [lemmatizer.lemmatize(w) for w in stop_removed]\n",
    "    #untokenize the words and return as string \n",
    "    ret_string = TreebankWordDetokenizer().detokenize(lemmatized)\n",
    "    return ret_string\n",
    "\n",
    "\n",
    "\n",
    "    \n",
    "    \n",
    "print(preprocess_string_nltk('Hello World! My name is Adi. My favorite number is 108. Here is a cool link: \\\n",
    "                  <a href = https://google.com > Click here! </a>'))\n",
    "\n",
    "\n",
    "print(preprocess_string_string(\"Hello World! My name is Adi. My favorite number is 108. \\\n",
    "                            Here is a cool link: <a href = https://google.com > Click here! </a>\"))\n"
   ]
  },
  {
   "cell_type": "markdown",
   "metadata": {},
   "source": [
    "Now we can calculate the mean number of replies per thread, median number of replies per thread, and sd of number of replies per thread.\n",
    "We do the above for each of the boards."
   ]
  },
  {
   "cell_type": "code",
   "execution_count": 437,
   "metadata": {},
   "outputs": [
    {
     "name": "stdout",
     "output_type": "stream",
     "text": [
      "Mean Number of Replies per thread for g: 49.2\n",
      "Median Number of Replies per thread for g: 15.0\n",
      "SD of Number of Replies per thread for g: 67.49730153336291\n",
      "---------\n",
      "Mean Number of Replies per thread for tv: 72.6\n",
      "Median Number of Replies per thread for tv: 50.0\n",
      "SD of Number of Replies per thread for tv: 76.39072494185965\n",
      "---------\n",
      "Mean Number of Replies per thread for ck: 39.266666666666666\n",
      "Median Number of Replies per thread for ck: 18.0\n",
      "SD of Number of Replies per thread for ck: 53.91854526792729\n",
      "---------\n",
      "Mean Number of Replies per thread for lit: 27.666666666666668\n",
      "Median Number of Replies per thread for lit: 17.0\n",
      "SD of Number of Replies per thread for lit: 27.025561092805315\n",
      "---------\n"
     ]
    }
   ],
   "source": [
    "for board in BOARDS:\n",
    "    replies_per_thread = dataset[dataset['board'] == board][['thread_id' , 'comment_id']].groupby('thread_id').count()\n",
    "    print(\"Mean Number of Replies per thread for \" + board + \": \" + str(replies_per_thread['comment_id'].mean()))\n",
    "    print(\"Median Number of Replies per thread for \" + board + \": \" + str(replies_per_thread['comment_id'].median()))\n",
    "    print(\"SD of Number of Replies per thread for \" + board + \": \" + str(replies_per_thread['comment_id'].std()))\n",
    "    print(\"---------\")\n",
    "\n",
    "    "
   ]
  },
  {
   "cell_type": "markdown",
   "metadata": {},
   "source": [
    "From the above, we can see that for all boards, the mean and median are significantly different. In fact, the mean is always higher than the median. This signifies that the distribution is right skewed. I investigate further by visualizing the distributions."
   ]
  },
  {
   "cell_type": "code",
   "execution_count": 438,
   "metadata": {},
   "outputs": [
    {
     "data": {
      "image/png": "[encoded data removed]",
      "text/plain": [
       "<Figure size 432x288 with 1 Axes>"
      ]
     },
     "metadata": {
      "needs_background": "light"
     },
     "output_type": "display_data"
    },
    {
     "data": {
      "image/png": "[encoded data removed]",
      "text/plain": [
       "<Figure size 432x288 with 1 Axes>"
      ]
     },
     "metadata": {
      "needs_background": "light"
     },
     "output_type": "display_data"
    },
    {
     "data": {
      "image/png": "[encoded data removed]",
      "text/plain": [
       "<Figure size 432x288 with 1 Axes>"
      ]
     },
     "metadata": {
      "needs_background": "light"
     },
     "output_type": "display_data"
    },
    {
     "data": {
      "image/png": "[encoded data removed]",
      "text/plain": [
       "<Figure size 432x288 with 1 Axes>"
      ]
     },
     "metadata": {
      "needs_background": "light"
     },
     "output_type": "display_data"
    },
    {
     "data": {
      "text/plain": [
       "<Figure size 432x288 with 0 Axes>"
      ]
     },
     "metadata": {},
     "output_type": "display_data"
    }
   ],
   "source": [
    "for board in BOARDS:\n",
    "    replies_per_thread = dataset[dataset['board'] == board][['thread_id' , 'comment_id']].groupby('thread_id').count()\n",
    "    sns.distplot(replies_per_thread['comment_id'], axlabel= 'Replies per thread', label = BOARDS, hist = False, \n",
    "                 color = 'orange')\n",
    "    plt.title(\"Distribution of replies per thread for \" + board)\n",
    "    plt.figure()"
   ]
  },
  {
   "cell_type": "markdown",
   "metadata": {},
   "source": [
    "Our insight has been confirmed. The distributions are indeed right skewed. We could further quantify our results by calculating skewness, kurtosis (to measure tailedness) of the distribution. Furthermore, we can also rectify the skewness by log transformations, etc. but we leave that for another time (when we have more time).\n",
    "\n",
    "\n",
    "For now, let's turn out attention to the common words for each board. We calculate the top n words for each board. You can change MAX_WORDS to increase/decrease the number of max words produced for each board. "
   ]
  },
  {
   "cell_type": "code",
   "execution_count": 439,
   "metadata": {},
   "outputs": [
    {
     "name": "stdout",
     "output_type": "stream",
     "text": [
      "Board: g\n",
      " like   get   one     x     b  dont   use    im would  shit \n",
      "   84    75    65    65    58    57    56    49    47    46 \n",
      "-------\n",
      "Board: tv\n",
      "     like     movie       kid       one      even    people character      make      want     would \n",
      "      157        96        87        83        78        76        76        75        72        67 \n",
      "-------\n",
      "Board: ck\n",
      "  like   dont animal    eat  would   meat  vegan   make   food    get \n",
      "    83     74     69     68     60     59     47     46     45     43 \n",
      "-------\n",
      "Board: lit\n",
      "  like people   dont    get   book  would   time    one  youre  think \n",
      "    54     45     44     40     36     35     33     33     32     31 \n",
      "-------\n"
     ]
    }
   ],
   "source": [
    "MAX_WORDS = 10\n",
    "def flatten(l):\n",
    "    flattened = []\n",
    "    for word_list in l:\n",
    "        for token in word_list:\n",
    "            flattened.append(token)\n",
    "    return flattened\n",
    "    \n",
    "\n",
    "#common words for each board\n",
    "for board in BOARDS:\n",
    "    filtered = dataset[dataset['board'] == board]\n",
    "    cleaned = np.array(filtered['content'].apply(preprocess_string_nltk))\n",
    "    token_list = flatten(cleaned)\n",
    "    fd = FreqDist(token_list)\n",
    "    print(\"Board: \" + board)\n",
    "    fd.tabulate(MAX_WORDS)\n",
    "    print(\"-------\")\n",
    "    \n",
    "    \n",
    "    \n",
    "    \n"
   ]
  },
  {
   "cell_type": "markdown",
   "metadata": {},
   "source": [
    "Our intuition is confirmed. Words like movie, people, character are common in /tv, while meat, vegan, food, etc. are common in /ck\n"
   ]
  },
  {
   "cell_type": "markdown",
   "metadata": {},
   "source": [
    "Let's now have a look at the distrbution of board (the dep. variable) in our dataset. The distribution is not exactly balanced. With more time, we could use oversampling/undersampling techniques or SMOTE to generate artificial samples. "
   ]
  },
  {
   "cell_type": "code",
   "execution_count": 440,
   "metadata": {},
   "outputs": [
    {
     "data": {
      "text/plain": [
       "tv     0.384670\n",
       "g      0.260685\n",
       "ck     0.208054\n",
       "lit    0.146591\n",
       "Name: board, dtype: float64"
      ]
     },
     "execution_count": 440,
     "metadata": {},
     "output_type": "execute_result"
    }
   ],
   "source": [
    "#distribution of dep. variable (board)\n",
    "dataset['board'].value_counts()/len(dataset)"
   ]
  },
  {
   "cell_type": "markdown",
   "metadata": {},
   "source": [
    "## STEP 3: Discriminative Analysis\n",
    "\n",
    "Now let's turn our attention to identifying characteristic words for each of the boards. We use tfidf to do so. tfidf is a measure of how valuable a word/term is to a particular document. A higher tf-idf value indicates a more characteristic term for the document in question, and a lower tf-idf indicates a less characteristic word for the particular document. \n",
    "\n",
    "for a given (term, document) pair tfidf is the product of the term frequency (prop. of times it appears in the document) and the log(1/df), where the df is the proportion of documents the term appears in througout the corpus. It is easy to see that highly characteristic words appear often in a given document (high term freq.), while rarely in across throughout the corpus. (low inverse document freq.)\n",
    "\n",
    "You can change TOP_N to get higher/lower number of words for a particular board. Since our common word analysis above showed that the word \"like\" appeared really often, let's drop that word from our analysis."
   ]
  },
  {
   "cell_type": "code",
   "execution_count": 441,
   "metadata": {},
   "outputs": [
    {
     "name": "stdout",
     "output_type": "stream",
     "text": [
      "Board: g\n",
      "[('get', 0.19466405687251823), ('headphone', 0.1840295778201562), ('one', 0.1687088492895158), ('cable', 0.16413448832608524), ('io', 0.14921317120553204), ('dont', 0.14794468322311385), ('use', 0.1453491624648136), ('im', 0.12718051715671191), ('would', 0.12198947564011142), ('shit', 0.11939395488181118)]\n",
      "------\n",
      "Board: tv\n",
      "[('movie', 0.1829666748659283), ('character', 0.1771706525369006), ('kid', 0.16581354909724752), ('one', 0.1581899376445005), ('even', 0.14866042332856674), ('people', 0.14484861760219325), ('make', 0.1429427147390065), ('want', 0.13722500614944624), ('woman', 0.1282156038095991), ('get', 0.12769549183351248)]\n",
      "------\n",
      "Board: ck\n",
      "[('eat', 0.28078157445923196), ('meat', 0.24361930725139244), ('animal', 0.23065977872552318), ('dont', 0.20224466308878636), ('vegan', 0.19406961764093972), ('food', 0.1858113360391976), ('would', 0.16398215926117812), ('make', 0.1257196554335699), ('chicago', 0.12045770526088113), ('pizza', 0.12045770526088113)]\n",
      "------\n",
      "Board: lit\n",
      "[('people', 0.18657468064867938), ('dont', 0.1824285766342643), ('get', 0.1658441605766039), ('book', 0.1492597445189435), ('would', 0.1451136405045284), ('one', 0.13682143247569822), ('time', 0.13682143247569822), ('youre', 0.1326753284612831), ('think', 0.128529224446868), ('child', 0.11663944893112503)]\n",
      "------\n"
     ]
    }
   ],
   "source": [
    "TOP_N = 10\n",
    "#get characteristic words via tf-idf\n",
    "\n",
    "\n",
    "#first create a text corpus for each boards\n",
    "corpus = []\n",
    "for board in BOARDS:\n",
    "    filtered = dataset[dataset['board'] == board]\n",
    "    rows = list(filtered.iterrows())\n",
    "    text = \"\"\n",
    "    for row in rows:\n",
    "        clean_string = preprocess_string_string(row[1]['content'])\n",
    "        #like appears way too often across all boards, so not really characteristic\n",
    "        text = text + \" , \" + clean_string.replace(\"like\", \"\")\n",
    "    corpus.append(text)\n",
    "\n",
    "#compute tfidf\n",
    "tfidf = TfidfVectorizer()\n",
    "tfidf_res = tfidf.fit_transform(corpus)\n",
    "tfidf_df = pd.DataFrame(tfidf_res.todense().tolist(), columns = tfidf.get_feature_names())\n",
    "\n",
    "\n",
    "#identify top characteristic words for each document (i.e. board)\n",
    "for i in range(4):\n",
    "    doc_tfidf = tfidf_df.iloc[i]\n",
    "    sorted_tfidf = sorted(doc_tfidf.items(), key=lambda item: item[1], reverse = True)\n",
    "    print(\"Board: \" + BOARDS[i])\n",
    "    print(sorted_tfidf[:TOP_N])\n",
    "    print(\"------\")\n",
    "    \n"
   ]
  },
  {
   "cell_type": "markdown",
   "metadata": {},
   "source": [
    "This time our results make more sense. Our approach has been successful. I have identified strongly characteristic words for each of our boards.\n",
    "\n",
    "\n",
    "Now let's move our attention to modelling.\n"
   ]
  },
  {
   "cell_type": "markdown",
   "metadata": {},
   "source": [
    "## STEP 4: Modelling\n",
    "\n",
    "Respecting the time constraint, we shall use two different vectorizers:\n",
    "- count-vectorizer: converts our text column to a matrix where each row represents a comment, and the columns are the terms in our corpus. each entry is the count of the number of times the term appears in the particular comment.\n",
    "- tfidf-vectorizer: converts our text column to a matrix where each row represents a comment, and the columns are the terms in our corpus. each entry is the tfidf score of the particualr (comment, term) pair\n",
    "\n",
    "\n",
    "Since the resulting bag-of-words matrix is quite large, we only accept terms that are in > 0.01 of all documents.\n",
    "We finally have 176 terms in our matrix, and 2831 comments as before."
   ]
  },
  {
   "cell_type": "code",
   "execution_count": 442,
   "metadata": {},
   "outputs": [
    {
     "data": {
      "text/plain": [
       "(2831, 176)"
      ]
     },
     "execution_count": 442,
     "metadata": {},
     "output_type": "execute_result"
    }
   ],
   "source": [
    "#generate modelling dataset\n",
    "#use a simple count vectorizer\n",
    "cvec = CountVectorizer(min_df = 0.01, max_df = 0.95)\n",
    "cvec_res = cvec.fit_transform(dataset['content'].apply(preprocess_string_string))\n",
    "cvec_df = pd.DataFrame(cvec_res.todense().tolist(), columns = cvec.get_feature_names()).join(dataset['board'])\n",
    "\n",
    "cvec_res.shape"
   ]
  },
  {
   "cell_type": "code",
   "execution_count": 443,
   "metadata": {},
   "outputs": [
    {
     "data": {
      "text/plain": [
       "(2831, 176)"
      ]
     },
     "execution_count": 443,
     "metadata": {},
     "output_type": "execute_result"
    }
   ],
   "source": [
    "#use a simple tfidf vectorizer\n",
    "tfidf = TfidfVectorizer(min_df = 0.01)\n",
    "tfidf_res = tfidf.fit_transform(dataset['content'].apply(preprocess_string_string))\n",
    "tfidf_df = pd.DataFrame(tfidf_res.todense().tolist(), columns = tfidf.get_feature_names()).join(dataset['board'])\n",
    "tfidf_res.shape"
   ]
  },
  {
   "cell_type": "markdown",
   "metadata": {},
   "source": [
    "To evaluate generalizability of our results, we split our dataset into separate train/test splits. Approx 70% of comments are randomly sampled into the train set, and 30% in the test set.\n",
    "\n",
    "This is done for both vectorization formats."
   ]
  },
  {
   "cell_type": "code",
   "execution_count": 444,
   "metadata": {},
   "outputs": [],
   "source": [
    "#generate train, test split for cvec, and tfidf vectorizations\n",
    "test_cvec = cvec_df.sample(frac = 0.3, random_state= 108)\n",
    "train_cvec = cvec_df.drop(test_cvec.index)\n",
    "\n",
    "test_tfidf = tfidf_df.sample(frac = 0.3, random_state = 108)\n",
    "train_tfidf = tfidf_df.drop(test_tfidf.index)\n"
   ]
  },
  {
   "cell_type": "markdown",
   "metadata": {},
   "source": [
    "I evaluate a simple Random Forest model for each of the vectorization formats. I chose Random Forest because it is a powerful ensemble technique that combines high predictive power for nonlinear relationships and variance reduction through the ensembling process. It also has a plenty of hyperparameters to tune. Also, it can be parallelized easily, thus ensuring quick train times."
   ]
  },
  {
   "cell_type": "code",
   "execution_count": 445,
   "metadata": {},
   "outputs": [
    {
     "data": {
      "text/plain": [
       "RandomForestClassifier(bootstrap=True, ccp_alpha=0.0, class_weight=None,\n",
       "                       criterion='gini', max_depth=None, max_features='auto',\n",
       "                       max_leaf_nodes=None, max_samples=None,\n",
       "                       min_impurity_decrease=0.0, min_impurity_split=None,\n",
       "                       min_samples_leaf=1, min_samples_split=2,\n",
       "                       min_weight_fraction_leaf=0.0, n_estimators=100,\n",
       "                       n_jobs=None, oob_score=False, random_state=None,\n",
       "                       verbose=0, warm_start=False)"
      ]
     },
     "execution_count": 445,
     "metadata": {},
     "output_type": "execute_result"
    }
   ],
   "source": [
    "rf_cvec = RandomForestClassifier()\n",
    "rf_tfidf = RandomForestClassifier()\n",
    "train_cvec_x = train_cvec.drop('board', axis = 1).to_numpy()\n",
    "train_cvec_y = train_cvec['board'].to_numpy()\n",
    "test_cvec_x  = test_cvec.drop('board', axis = 1).to_numpy()\n",
    "test_cvec_y = test_cvec['board'].to_numpy()\n",
    "\n",
    "\n",
    "train_tfidf_x = train_tfidf.drop('board', axis = 1).to_numpy()\n",
    "train_tfidf_y = train_tfidf['board'].to_numpy()\n",
    "test_tfidf_x = test_tfidf.drop('board', axis = 1).to_numpy()\n",
    "test_tfidf_y = test_tfidf['board'].to_numpy()\n",
    "\n",
    "rf_cvec.fit(train_cvec_x, train_cvec_y )\n",
    "rf_tfidf.fit(train_tfidf_x, train_tfidf_y)"
   ]
  },
  {
   "cell_type": "markdown",
   "metadata": {},
   "source": [
    "Finally, let's compute our accuracy for each vectorization method. I chose accuracy as the evaluation metric because it is simple to understand and quick to compute. It is also easily understoood by nontechnical audiences. For more rigor, I would:\n",
    "- compute a confusion matrix\n",
    "- evaluate precision, recall, AUC for each of the boards\n",
    "- compute an F1 score"
   ]
  },
  {
   "cell_type": "code",
   "execution_count": 446,
   "metadata": {},
   "outputs": [
    {
     "name": "stdout",
     "output_type": "stream",
     "text": [
      "RANDOM FOREST TRAINING ACCURACY WITH COUNT VECTORIZATION: 0.8168516649848637\n",
      "RANDOM FOREST TEST ACCURACY WITH COUNT VECTORIZATION: 0.4617196702002356\n",
      "-----------------\n",
      "RANDOM FOREST TRAIN ACCURACY WITH TFIDF VECTORIZATION: 0.8153380423814329\n",
      "RANDOM FOREST TEST ACCURACY WITH TFIDF VECTORIZATION: 0.4558303886925795\n"
     ]
    }
   ],
   "source": [
    "def compute_accuracy(true, pred):\n",
    "    return sum(true == pred)/len(true)\n",
    "\n",
    "rf_cvec_pred = rf_cvec.predict(test_cvec_x)\n",
    "rf_cvec_pred_train = rf_cvec.predict(train_cvec_x)\n",
    "\n",
    "rf_tfidf_pred = rf_tfidf.predict(test_tfidf_x)\n",
    "rf_tfidf_pred_train = rf_tfidf.predict(train_tfidf_x)\n",
    "\n",
    "\n",
    "print(\"RANDOM FOREST TRAINING ACCURACY WITH COUNT VECTORIZATION: \" + \n",
    "      str(compute_accuracy(train_cvec_y, rf_cvec_pred_train)))\n",
    "print(\"RANDOM FOREST TEST ACCURACY WITH COUNT VECTORIZATION: \" + str(compute_accuracy(test_cvec_y, rf_cvec_pred)))\n",
    "\n",
    "print(\"-----------------\")\n",
    "\n",
    "print(\"RANDOM FOREST TRAIN ACCURACY WITH TFIDF VECTORIZATION: \" + str(compute_accuracy(train_tfidf_y, rf_tfidf_pred_train)))\n",
    "print(\"RANDOM FOREST TEST ACCURACY WITH TFIDF VECTORIZATION: \" + str(compute_accuracy(test_tfidf_y, rf_tfidf_pred)))\n"
   ]
  },
  {
   "cell_type": "markdown",
   "metadata": {},
   "source": [
    "Not surprisingly, train accuracies are high (\\~80%), but test accuracies are quite low (\\~46%). This indicates severe overfitting. But this is to be expected: we are did not optimize our hyperparameters. With more time, I would carry out the following:\n",
    "- use k-fold cross validation to select the best model rigorously\n",
    "- explore a wider range of models (boosting, logistic regression, neural nets, linear/quadratic disciminative analysis, naive bayes, etc.)\n",
    "- A comprehensive randomized grid search of the parameter space for the random forest model."
   ]
  },
  {
   "cell_type": "markdown",
   "metadata": {},
   "source": [
    "When it comes to productionalizing our model, our would setup the data pipeline using the following technologies that I know:\n",
    "    - AWS S3, RDS, EC3\n",
    "    - Docker containers\n",
    "    - SQL Alchemy ORMs\n",
    "    - Hadoop DFS, \n",
    "    - Map Reduce, Spark"
   ]
  },
  {
   "cell_type": "markdown",
   "metadata": {},
   "source": [
    "### I hope you enjoyed my analysis! :) "
   ]
  },
  {
   "cell_type": "code",
   "execution_count": null,
   "metadata": {},
   "outputs": [],
   "source": []
  }
 ],
 "metadata": {
  "kernelspec": {
   "display_name": "Python 3",
   "language": "python",
   "name": "python3"
  },
  "language_info": {
   "codemirror_mode": {
    "name": "ipython",
    "version": 3
   },
   "file_extension": ".py",
   "mimetype": "text/x-python",
   "name": "python",
   "nbconvert_exporter": "python",
   "pygments_lexer": "ipython3",
   "version": "3.8.2"
  }
 },
 "nbformat": 4,
 "nbformat_minor": 4
}
